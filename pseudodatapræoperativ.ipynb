{
 "cells": [
  {
   "cell_type": "code",
   "execution_count": null,
   "metadata": {},
   "outputs": [],
   "source": [
    "import numpy as np\n",
    "import pandas as pd\n",
    "\n",
    "#load parquet file\n",
    "præoperationdata = pd.read_parquet('præoperation.parquet')\n",
    "\n",
    "shuffled_df = pd.DataFrame(np.random.permutation(præoperationdata.values.flatten()).reshape(præoperationdata.shape), columns=præoperationdata.columns)\n",
    "\n",
    "print(shuffled_df)\n",
    "\n",
    "mean = præoperationdata.values.mean()\n",
    "std = præoperationdata.values.std()\n",
    "noise = np.random.normal(0, std, præoperationdata.shape)\n",
    "noisy_df = pd.DataFrame(præoperationdata.values + noise, columns=præoperationdata.columns)\n",
    "\n",
    "print(noisy_df)\n",
    "\n",
    "pseudodata_df = pd.DataFrame(np.random.normal(mean, std, præoperationdata.shape), columns=præoperationdata.columns)\n",
    "\n",
    "print(pseudodata_df)\n",
    "\n",
    "\n",
    "# Check if the loaded matrix is the same as the original matrix\n",
    "print(np.allclose(pseudodata_df, præoperationdata))\n",
    "\n",
    "#save the new dataframe as a csv file\n",
    "pseudodata_df.to_csv('pseudodata_præoperation.csv')\n",
    "\n"
   ]
  }
 ],
 "metadata": {
  "language_info": {
   "name": "python"
  }
 },
 "nbformat": 4,
 "nbformat_minor": 2
}
