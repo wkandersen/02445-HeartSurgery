{
 "cells": [
  {
   "cell_type": "code",
   "execution_count": null,
   "metadata": {},
   "outputs": [],
   "source": [
    "import numpy as np\n",
    "import pandas as pd\n",
    "\n",
    "#load parquet file\n",
    "præoperationdata = pd.read_parquet('præoperation.parquet')\n",
    "\n",
    "shuffled_df = pd.DataFrame(np.random.permutation(præoperationdata.values.flatten()).reshape(præoperationdata.shape), columns=præoperationdata.columns)\n",
    "\n",
    "print(shuffled_df)\n",
    "\n",
    "mean = præoperationdata.values.mean()\n",
    "std = præoperationdata.values.std()\n",
    "\n",
    "pseudodata_df = pd.DataFrame(np.random.normal(mean, std, præoperationdata.shape), columns=præoperationdata.columns)\n",
    "\n",
    "print(pseudodata_df)\n",
    "\n",
    "\n",
    "# Check if the loaded matrix is the same as the original matrix\n",
    "print(np.allclose(pseudodata_df, præoperationdata))\n",
    "\n",
    "#save the new dataframe as a csv file\n",
    "pseudodata_df.to_csv('pseudodata_præoperation.csv')\n",
    "\n"
   ]
  }
 ],
 "metadata": {
  "kernelspec": {
   "display_name": "activelearning",
   "language": "python",
   "name": "python3"
  },
  "language_info": {
   "codemirror_mode": {
    "name": "ipython",
    "version": 3
   },
   "file_extension": ".py",
   "mimetype": "text/x-python",
   "name": "python",
   "nbconvert_exporter": "python",
   "pygments_lexer": "ipython3",
   "version": "3.12.3"
  }
 },
 "nbformat": 4,
 "nbformat_minor": 2
}
